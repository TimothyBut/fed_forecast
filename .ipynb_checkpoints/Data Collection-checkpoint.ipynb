{
 "cells": [
  {
   "cell_type": "code",
   "execution_count": 7,
   "id": "72880a2a-51da-40f7-8ad8-103ebc34e12f",
   "metadata": {},
   "outputs": [],
   "source": [
    "# install api for access financial data from FRED website https://fred.stlouisfed.org/\n",
    "!pip install pyfredapi --upgrade --quiet\n",
    "\n",
    "# install api for access google bigquery\n",
    "!pip install google-cloud-bigquery --quiet"
   ]
  },
  {
   "cell_type": "code",
   "execution_count": 9,
   "id": "d49116fe-1855-4228-8de5-86ce53cd5efd",
   "metadata": {},
   "outputs": [],
   "source": [
    "# import api for access financial data \n",
    "import pyfredapi as pf\n",
    "# import api for access google bigquery\n",
    "from google.cloud import bigquery as bq\n",
    "# import for getting details for authentication and project id\n",
    "import google.auth"
   ]
  },
  {
   "cell_type": "code",
   "execution_count": 9,
   "id": "5b21c389-b98d-41cf-8a24-823494803a34",
   "metadata": {},
   "outputs": [],
   "source": [
    "# Apply API Key for FRED from Below website\n",
    "# https://fred.stlouisfed.org/docs/api/api_key.html"
   ]
  },
  {
   "cell_type": "code",
   "execution_count": 6,
   "id": "248baea5-5ab2-4816-8a9d-d8dcbeab9e2f",
   "metadata": {},
   "outputs": [],
   "source": [
    "# define lambda function for simple data cleanse\n",
    "get = lambda series_id: pf.get_series(series_id)[[\"date\",\"value\"]].set_index(\"date\").rename({\"value\":series_id},axis=1)"
   ]
  },
  {
   "cell_type": "code",
   "execution_count": 7,
   "id": "90f43ebe-e178-43ae-8e01-b9416475bc40",
   "metadata": {},
   "outputs": [],
   "source": [
    "# define a dictionary for desired financial data\n",
    "dict_data = {\"FEDFUNDS\": \"Federal Funds Effective Rate\",\n",
    "             \"TB3MS\": \"3-Month Treasury Bill Secondary Market Rate, Discount Basis\",\n",
    "             \"CPALTT01USM657N\":\"Consumer Price Index: All Items: Total for United States\"\n",
    "            }\n",
    "\n",
    "# define a dictionary for store the dataframe of various financial data\n",
    "dict_df = {}\n",
    "for data in dict_data:\n",
    "    dict_df[data] = get(data)"
   ]
  },
  {
   "cell_type": "code",
   "execution_count": 3,
   "id": "9f16a9cb-e9ae-4095-9f3a-ab68d7d4cce8",
   "metadata": {},
   "outputs": [],
   "source": [
    "# key is generated at Service Account and downloaded in json format\n",
    "# default credentials is set under environment variable \"GOOGLE_APPLICATION_CREDENTIALS\"\n",
    "# the value of \"GOOGLE_APPLICATION_CREDENTIALS\" is set to path of json e.g. '/Users/.../project_id.json'\n",
    "\n",
    "# get project_id from json\n",
    "credentials, project_id = google.auth.default()\n",
    "database_id = 'data'\n",
    "\n",
    "# save financial data into Google bigquery\n",
    "for df_name in dict_df:\n",
    "    table_id = df_name\n",
    "    dict_df[df_name].to_gbq(f'{database_id}.{table_id}', project_id=project_id, if_exists='replace')"
   ]
  },
  {
   "cell_type": "code",
   "execution_count": 23,
   "id": "ec676e4d-5a80-4734-860d-c06d22ac14da",
   "metadata": {},
   "outputs": [
    {
     "name": "stdout",
     "output_type": "stream",
     "text": [
      "          date  FEDFUNDS\n",
      "0   1961-08-01      2.00\n",
      "1   2008-06-01      2.00\n",
      "2   2008-08-01      2.00\n",
      "3   1956-02-01      2.50\n",
      "4   1956-03-01      2.50\n",
      "..         ...       ...\n",
      "831 1983-10-01      9.48\n",
      "832 1980-05-01     10.98\n",
      "833 2008-11-01      0.39\n",
      "834 2016-07-01      0.39\n",
      "835 2008-09-01      1.81\n",
      "\n",
      "[836 rows x 2 columns]\n",
      "           date  TB3MS\n",
      "0    1956-03-01   2.25\n",
      "1    1960-12-01   2.25\n",
      "2    2018-10-01   2.25\n",
      "3    2008-01-01   2.75\n",
      "4    1993-01-01   3.00\n",
      "...         ...    ...\n",
      "1077 1948-08-01   1.06\n",
      "1078 1950-10-01   1.31\n",
      "1079 1951-07-01   1.56\n",
      "1080 1951-11-01   1.56\n",
      "1081 1952-07-01   1.81\n",
      "\n",
      "[1082 rows x 2 columns]\n",
      "          date  T10YFFM\n",
      "0   1998-11-01     0.00\n",
      "1   1958-09-01     2.00\n",
      "2   1958-10-01     2.00\n",
      "3   1988-05-01     2.00\n",
      "4   2008-07-01     2.00\n",
      "..         ...      ...\n",
      "831 1972-07-01     1.56\n",
      "832 1986-09-01     1.56\n",
      "833 2012-12-01     1.56\n",
      "834 2021-04-01     1.56\n",
      "835 2021-05-01     1.56\n",
      "\n",
      "[836 rows x 2 columns]\n",
      "          date  CPALTT01USM657N\n",
      "0   1955-02-01              NaN\n",
      "1   1955-03-01              NaN\n",
      "2   1955-04-01              NaN\n",
      "3   1955-05-01              NaN\n",
      "4   1955-06-01              NaN\n",
      "..         ...              ...\n",
      "822 2021-03-01         0.708327\n",
      "823 2002-06-01         0.055617\n",
      "824 2000-06-01         0.524781\n",
      "825 2023-10-01        -0.038338\n",
      "826 1995-03-01         0.331345\n",
      "\n",
      "[827 rows x 2 columns]\n"
     ]
    }
   ],
   "source": [
    "# Check if data can be accessed\n",
    "client = bq.Client()\n",
    "for df_name in dict_df:\n",
    "    table_id = df_name    \n",
    "    sql = f'select * from {project_id}.{database_id}.{table_id}'\n",
    "    print(client.query(sql).to_dataframe())"
   ]
  },
  {
   "cell_type": "code",
   "execution_count": null,
   "id": "05d8a517-30e2-44ff-affb-a49f21f14997",
   "metadata": {},
   "outputs": [],
   "source": []
  }
 ],
 "metadata": {
  "kernelspec": {
   "display_name": "Python 3 (ipykernel)",
   "language": "python",
   "name": "python3"
  },
  "language_info": {
   "codemirror_mode": {
    "name": "ipython",
    "version": 3
   },
   "file_extension": ".py",
   "mimetype": "text/x-python",
   "name": "python",
   "nbconvert_exporter": "python",
   "pygments_lexer": "ipython3",
   "version": "3.11.4"
  }
 },
 "nbformat": 4,
 "nbformat_minor": 5
}
