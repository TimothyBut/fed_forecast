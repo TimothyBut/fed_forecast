{
 "cells": [
  {
   "cell_type": "markdown",
   "id": "24efbaa7-ab43-4216-939a-f27884ec216f",
   "metadata": {},
   "source": [
    "# Data Collection and Storage\n",
    "\n",
    "1) Preliminary Setup\n",
    "2) Download Data from FRED API\n",
    "3) Save Data into Google Bigquery"
   ]
  },
  {
   "cell_type": "markdown",
   "id": "6625dd20-8c5c-41cc-bc08-aa7756f94c94",
   "metadata": {},
   "source": [
    "# 1. Preliminary Setup"
   ]
  },
  {
   "cell_type": "code",
   "execution_count": 1,
   "id": "72880a2a-51da-40f7-8ad8-103ebc34e12f",
   "metadata": {},
   "outputs": [],
   "source": [
    "# install api for access financial data from FRED website https://fred.stlouisfed.org/\n",
    "!pip install pyfredapi --upgrade --quiet\n",
    "\n",
    "# install api for access google bigquery\n",
    "!pip install google-cloud-bigquery --quiet"
   ]
  },
  {
   "cell_type": "code",
   "execution_count": 61,
   "id": "d49116fe-1855-4228-8de5-86ce53cd5efd",
   "metadata": {},
   "outputs": [],
   "source": [
    "# import api for access financial data \n",
    "import pyfredapi as pf\n",
    "# import api for access google bigquery\n",
    "from google.cloud import bigquery as bq\n",
    "# import for getting details for authentication and project id\n",
    "import google.auth\n",
    "# import pandas for data manipulation\n",
    "import pandas as pd\n",
    "# import data list \n",
    "import Data_List"
   ]
  },
  {
   "cell_type": "code",
   "execution_count": 3,
   "id": "5b21c389-b98d-41cf-8a24-823494803a34",
   "metadata": {},
   "outputs": [],
   "source": [
    "# Apply API Key for FRED from Below website\n",
    "# https://fred.stlouisfed.org/docs/api/api_key.html"
   ]
  },
  {
   "cell_type": "markdown",
   "id": "1ea69d3a-ce8a-4d83-89fa-88f5d77b7fc9",
   "metadata": {},
   "source": [
    "# 2. Download Data from FRED API"
   ]
  },
  {
   "cell_type": "code",
   "execution_count": 57,
   "id": "248baea5-5ab2-4816-8a9d-d8dcbeab9e2f",
   "metadata": {},
   "outputs": [],
   "source": [
    "# Define lambda function for simple data cleanse\n",
    "get = lambda series_id: pf.get_series(series_id)[[\"date\",\"value\"]].set_index(\"date\").rename({\"value\":series_id},axis=1).dropna()\n",
    "\n",
    "# Define a function to change data frequency\n",
    "def change_freq(df, freq='M'):\n",
    "    temp_df = df.groupby(pd.Grouper(freq=freq)).max().interpolate().round(3)\n",
    "    temp_df['year'] = temp_df.index.year\n",
    "    temp_df['month'] = temp_df.index.month\n",
    "    temp_df['date'] = temp_df['year'].astype(str) + \"-\" + temp_df['month'].astype(str) + \"-1\"\n",
    "    temp_df.index = pd.to_datetime(temp_df['date'])\n",
    "    return temp_df.drop(columns=['year', 'month', 'date'])"
   ]
  },
  {
   "cell_type": "code",
   "execution_count": 58,
   "id": "90f43ebe-e178-43ae-8e01-b9416475bc40",
   "metadata": {},
   "outputs": [],
   "source": [
    "# call the data list from another .py\n",
    "dict_data = Data_List.dict_data\n",
    "\n",
    "# define a dictionary for store the dataframe of various financial data\n",
    "dict_df = {}\n",
    "for data in dict_data:\n",
    "    dict_df[data] = get(data)\n",
    "    if pf.get_series_info(series_id=data).frequency_short != 'M':\n",
    "        dict_df[data] = change_freq(dict_df[data])"
   ]
  },
  {
   "cell_type": "markdown",
   "id": "7c5d9719-f7d1-4d96-993f-74364efd0479",
   "metadata": {},
   "source": [
    "# 3. Save Data into Google Bigquery"
   ]
  },
  {
   "cell_type": "code",
   "execution_count": 59,
   "id": "9f16a9cb-e9ae-4095-9f3a-ab68d7d4cce8",
   "metadata": {
    "scrolled": true
   },
   "outputs": [
    {
     "name": "stderr",
     "output_type": "stream",
     "text": [
      "100%|███████████████████████████████████████████| 1/1 [00:00<00:00, 1319.79it/s]\n",
      "100%|███████████████████████████████████████████| 1/1 [00:00<00:00, 4877.10it/s]\n",
      "100%|███████████████████████████████████████████| 1/1 [00:00<00:00, 9532.51it/s]\n",
      "100%|███████████████████████████████████████████| 1/1 [00:00<00:00, 6250.83it/s]\n",
      "100%|███████████████████████████████████████████| 1/1 [00:00<00:00, 9799.78it/s]\n"
     ]
    }
   ],
   "source": [
    "# key is generated at Service Account and downloaded in json format\n",
    "# default credentials is set under environment variable \"GOOGLE_APPLICATION_CREDENTIALS\"\n",
    "# the value of \"GOOGLE_APPLICATION_CREDENTIALS\" is set to path of json e.g. '/Users/.../project_id.json'\n",
    "\n",
    "# get project_id from json\n",
    "credentials, project_id = google.auth.default()\n",
    "database_id = 'data'\n",
    "\n",
    "# save financial data into Google bigquery\n",
    "for df_name in dict_df:\n",
    "    table_id = df_name\n",
    "    dict_df[df_name].to_gbq(f'{database_id}.{table_id}', project_id=project_id, if_exists='replace')"
   ]
  },
  {
   "cell_type": "code",
   "execution_count": 60,
   "id": "ec676e4d-5a80-4734-860d-c06d22ac14da",
   "metadata": {},
   "outputs": [
    {
     "name": "stdout",
     "output_type": "stream",
     "text": [
      "          date  FEDFUNDS\n",
      "0   1961-08-01      2.00\n",
      "1   2008-06-01      2.00\n",
      "2   2008-08-01      2.00\n",
      "3   1956-02-01      2.50\n",
      "4   1956-03-01      2.50\n",
      "..         ...       ...\n",
      "831 1983-10-01      9.48\n",
      "832 1980-05-01     10.98\n",
      "833 2008-11-01      0.39\n",
      "834 2016-07-01      0.39\n",
      "835 2008-09-01      1.81\n",
      "\n",
      "[836 rows x 2 columns]\n",
      "           date  TB3MS\n",
      "0    1956-03-01   2.25\n",
      "1    1960-12-01   2.25\n",
      "2    2018-10-01   2.25\n",
      "3    2008-01-01   2.75\n",
      "4    1993-01-01   3.00\n",
      "...         ...    ...\n",
      "1077 1948-08-01   1.06\n",
      "1078 1950-10-01   1.31\n",
      "1079 1951-07-01   1.56\n",
      "1080 1951-11-01   1.56\n",
      "1081 1952-07-01   1.81\n",
      "\n",
      "[1082 rows x 2 columns]\n",
      "          date  CPIAUCSL\n",
      "0   1947-03-01    22.000\n",
      "1   1947-04-01    22.000\n",
      "2   1957-05-01    28.000\n",
      "3   1959-02-01    29.000\n",
      "4   1967-12-01    34.000\n",
      "..         ...       ...\n",
      "921 2023-09-01   307.288\n",
      "922 2022-09-01   296.341\n",
      "923 2014-11-01   236.983\n",
      "924 2015-10-01   237.733\n",
      "925 2019-04-01   255.233\n",
      "\n",
      "[926 rows x 2 columns]\n",
      "          date  UNRATE\n",
      "0   1953-05-01     2.5\n",
      "1   1953-06-01     2.5\n",
      "2   1951-05-01     3.0\n",
      "3   1952-05-01     3.0\n",
      "4   1952-06-01     3.0\n",
      "..         ...     ...\n",
      "909 2010-03-01     9.9\n",
      "910 2010-04-01     9.9\n",
      "911 1982-10-01    10.4\n",
      "912 1983-01-01    10.4\n",
      "913 1983-02-01    10.4\n",
      "\n",
      "[914 rows x 2 columns]\n",
      "          date        GDP\n",
      "0   1947-01-01    243.164\n",
      "1   1947-02-01    244.099\n",
      "2   1947-03-01    245.033\n",
      "3   1947-04-01    245.968\n",
      "4   1947-05-01    247.174\n",
      "..         ...        ...\n",
      "917 2023-06-01  27427.756\n",
      "918 2023-07-01  27610.128\n",
      "919 2023-08-01  27725.751\n",
      "920 2023-09-01  27841.375\n",
      "921 2023-10-01  27956.998\n",
      "\n",
      "[922 rows x 2 columns]\n"
     ]
    }
   ],
   "source": [
    "# Check if data can be accessed\n",
    "client = bq.Client()\n",
    "for df_name in dict_df:\n",
    "    table_id = df_name\n",
    "    sql = f'select * from {project_id}.{database_id}.{table_id}'\n",
    "    # save result into dataframe\n",
    "    print(client.query(sql).to_dataframe())"
   ]
  },
  {
   "cell_type": "code",
   "execution_count": null,
   "id": "69f1137b-a3dc-4c2c-9358-9c2b013d1557",
   "metadata": {},
   "outputs": [],
   "source": []
  }
 ],
 "metadata": {
  "kernelspec": {
   "display_name": "Python 3 (ipykernel)",
   "language": "python",
   "name": "python3"
  },
  "language_info": {
   "codemirror_mode": {
    "name": "ipython",
    "version": 3
   },
   "file_extension": ".py",
   "mimetype": "text/x-python",
   "name": "python",
   "nbconvert_exporter": "python",
   "pygments_lexer": "ipython3",
   "version": "3.11.4"
  }
 },
 "nbformat": 4,
 "nbformat_minor": 5
}
