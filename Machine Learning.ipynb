{
 "cells": [
  {
   "cell_type": "markdown",
   "id": "a772071c-5760-49cd-85bd-544b128d4581",
   "metadata": {},
   "source": [
    "# 1. Train and predict with first model\n",
    "model_1.fit(X_train_1, y_train)\n",
    "y_pred_1 = model_1.predict(X_train)\n",
    "\n",
    "# 2. Train and predict with second model on residuals\n",
    "model_2.fit(X_train_2, y_train - y_pred_1)\n",
    "y_pred_2 = model_2.predict(X_train_2)\n",
    "\n",
    "# 3. Add to get overall predictions\n",
    "y_pred = y_pred_1 + y_pred_2"
   ]
  },
  {
   "cell_type": "code",
   "execution_count": 7,
   "id": "b218ad07-a99d-4299-87c5-03ecb01a0cdf",
   "metadata": {},
   "outputs": [],
   "source": [
    "class BoostedHybrid:\n",
    "    def __init__(self, model_1, model_2):\n",
    "        self.model_1 = model_1\n",
    "        self.model_2 = model_2\n",
    "        self.y_columns = None\n",
    "\n",
    "        BoostedHybrid.fit = fit\n",
    "        BoostedHybrid.predict = predict\n",
    "\n",
    "    def fit(self, X_1, X_2, y):\n",
    "        # Train model_1\n",
    "        self.model_1.fit(X_1, y)\n",
    "    \n",
    "        # Make predictions\n",
    "        y_fit = pd.DataFrame(\n",
    "            self.model_1.predict(X_1), \n",
    "            index=X_1.index, columns=y.columns)\n",
    "    \n",
    "        # Compute residuals\n",
    "        y_resid = y - y_fit\n",
    "        y_resid = y_resid.stack().squeeze() # wide to long\n",
    "    \n",
    "        # Train model_2 on residuals\n",
    "        self.model_2.fit(X_2, y_resid)\n",
    "    \n",
    "        # Save column names for predict method\n",
    "        self.y_columns = y.columns\n",
    "        # Save data for question checking\n",
    "        self.y_fit = y_fit\n",
    "        self.y_resid = y_resid\n",
    "\n",
    "    def predict(self, X_1, X_2):\n",
    "        # Predict with model_1\n",
    "        y_pred = pd.DataFrame(\n",
    "            self.model_1.predict(X_1), \n",
    "            index=X_1.index, columns=self.y_columns)\n",
    "        y_pred = y_pred.stack().squeeze()  # wide to long\n",
    "    \n",
    "        # Add model_2 predictions to model_1 predictions\n",
    "        y_pred += self.model_2.predict(X_2)\n",
    "    \n",
    "        return y_pred.unstack()\n"
   ]
  },
  {
   "cell_type": "code",
   "execution_count": 14,
   "id": "04aeb1ed-9fdd-440f-b1a7-8c853c175cba",
   "metadata": {},
   "outputs": [],
   "source": [
    "import matplotlib.pyplot as plt\n",
    "import pandas as pd\n",
    "from sklearn.linear_model import LinearRegression\n",
    "from statsmodels.tsa.deterministic import DeterministicProcess\n",
    "# from xgboost import XGBRegressor"
   ]
  },
  {
   "cell_type": "code",
   "execution_count": null,
   "id": "e4eef32a-88f1-4dfc-a21f-78c9235d3cdc",
   "metadata": {},
   "outputs": [],
   "source": []
  }
 ],
 "metadata": {
  "kernelspec": {
   "display_name": "Python 3 (ipykernel)",
   "language": "python",
   "name": "python3"
  },
  "language_info": {
   "codemirror_mode": {
    "name": "ipython",
    "version": 3
   },
   "file_extension": ".py",
   "mimetype": "text/x-python",
   "name": "python",
   "nbconvert_exporter": "python",
   "pygments_lexer": "ipython3",
   "version": "3.11.4"
  }
 },
 "nbformat": 4,
 "nbformat_minor": 5
}
