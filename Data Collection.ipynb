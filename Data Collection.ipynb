{
 "cells": [
  {
   "cell_type": "markdown",
   "id": "24efbaa7-ab43-4216-939a-f27884ec216f",
   "metadata": {},
   "source": [
    "# Data Collection and Storage\n",
    "\n",
    "1) Preliminary Setup\n",
    "2) Download Data from FRED API\n",
    "3) Save Data into Google Bigquery"
   ]
  },
  {
   "cell_type": "markdown",
   "id": "6625dd20-8c5c-41cc-bc08-aa7756f94c94",
   "metadata": {},
   "source": [
    "# 1. Preliminary Setup"
   ]
  },
  {
   "cell_type": "code",
   "execution_count": 1,
   "id": "72880a2a-51da-40f7-8ad8-103ebc34e12f",
   "metadata": {},
   "outputs": [],
   "source": [
    "# install api for access financial data from FRED website https://fred.stlouisfed.org/\n",
    "!pip install pyfredapi --upgrade --quiet\n",
    "\n",
    "# install api for access google bigquery\n",
    "!pip install google-cloud-bigquery --quiet"
   ]
  },
  {
   "cell_type": "code",
   "execution_count": 139,
   "id": "d49116fe-1855-4228-8de5-86ce53cd5efd",
   "metadata": {},
   "outputs": [],
   "source": [
    "# import api for access financial data \n",
    "import pyfredapi as pf\n",
    "# import api for access google bigquery\n",
    "from google.cloud import bigquery as bq\n",
    "# import for getting details for authentication and project id\n",
    "import google.auth\n",
    "# import pandas for data manipulation\n",
    "import pandas as pd\n",
    "# import numpy for data manipulation\n",
    "import numpy as np\n",
    "# import data list from another notebook\n",
    "import Data_List"
   ]
  },
  {
   "cell_type": "code",
   "execution_count": 3,
   "id": "5b21c389-b98d-41cf-8a24-823494803a34",
   "metadata": {},
   "outputs": [],
   "source": [
    "# Apply API Key for FRED from Below website\n",
    "# https://fred.stlouisfed.org/docs/api/api_key.html"
   ]
  },
  {
   "cell_type": "markdown",
   "id": "1ea69d3a-ce8a-4d83-89fa-88f5d77b7fc9",
   "metadata": {},
   "source": [
    "# 2. Download Data from FRED API"
   ]
  },
  {
   "cell_type": "code",
   "execution_count": 4,
   "id": "248baea5-5ab2-4816-8a9d-d8dcbeab9e2f",
   "metadata": {},
   "outputs": [],
   "source": [
    "# Define lambda function for simple data cleanse\n",
    "get = lambda series_id: pf.get_series(series_id)[[\"date\",\"value\"]].set_index(\"date\").rename({\"value\":series_id},axis=1).dropna()\n",
    "\n",
    "# Define a function to change data frequency\n",
    "def change_freq(df, freq='M'):\n",
    "    temp_df = df.groupby(pd.Grouper(freq=freq)).max().interpolate().round(3)\n",
    "    temp_df['year'] = temp_df.index.year\n",
    "    temp_df['month'] = temp_df.index.month\n",
    "    temp_df['date'] = temp_df['year'].astype(str) + \"-\" + temp_df['month'].astype(str) + \"-1\"\n",
    "    temp_df.index = pd.to_datetime(temp_df['date'])\n",
    "    return temp_df.drop(columns=['year', 'month', 'date'])"
   ]
  },
  {
   "cell_type": "code",
   "execution_count": 10,
   "id": "90f43ebe-e178-43ae-8e01-b9416475bc40",
   "metadata": {},
   "outputs": [],
   "source": [
    "# call the data list from another .py\n",
    "dict_data = Data_List.dict_data\n",
    "\n",
    "# define a dictionary for store the dataframe of various financial data\n",
    "dict_df = {}\n",
    "for data in dict_data:\n",
    "    dict_df[data] = get(data)\n"
   ]
  },
  {
   "cell_type": "code",
   "execution_count": null,
   "id": "33749d2c-14e7-40f4-8476-32aa56849307",
   "metadata": {},
   "outputs": [],
   "source": [
    "# Data Cleansing\n",
    "\n",
    "    if pf.get_series_info(series_id=data).frequency_short != 'M':\n",
    "        dict_df[data] = change_freq(dict_df[data])"
   ]
  },
  {
   "cell_type": "code",
   "execution_count": 209,
   "id": "235e420c-583b-446c-a133-6b383bd73267",
   "metadata": {},
   "outputs": [],
   "source": [
    "combine = pd.DataFrame()\n",
    "\n",
    "for df in dict_df:\n",
    "    if combine.empty:\n",
    "        combine = dict_df[df].copy()\n",
    "    else:\n",
    "        combine = combine.join(dict_df[df])"
   ]
  },
  {
   "cell_type": "code",
   "execution_count": 210,
   "id": "2e96fc73-3b03-4a20-81af-e66ad9f7b9cd",
   "metadata": {},
   "outputs": [
    {
     "data": {
      "text/html": [
       "<div>\n",
       "<style scoped>\n",
       "    .dataframe tbody tr th:only-of-type {\n",
       "        vertical-align: middle;\n",
       "    }\n",
       "\n",
       "    .dataframe tbody tr th {\n",
       "        vertical-align: top;\n",
       "    }\n",
       "\n",
       "    .dataframe thead th {\n",
       "        text-align: right;\n",
       "    }\n",
       "</style>\n",
       "<table border=\"1\" class=\"dataframe\">\n",
       "  <thead>\n",
       "    <tr style=\"text-align: right;\">\n",
       "      <th></th>\n",
       "      <th>FEDFUNDS</th>\n",
       "      <th>TB3MS</th>\n",
       "      <th>CPIAUCSL</th>\n",
       "      <th>UNRATE</th>\n",
       "      <th>GDP</th>\n",
       "    </tr>\n",
       "    <tr>\n",
       "      <th>date</th>\n",
       "      <th></th>\n",
       "      <th></th>\n",
       "      <th></th>\n",
       "      <th></th>\n",
       "      <th></th>\n",
       "    </tr>\n",
       "  </thead>\n",
       "  <tbody>\n",
       "    <tr>\n",
       "      <th>1954-07-01</th>\n",
       "      <td>0.80</td>\n",
       "      <td>0.72</td>\n",
       "      <td>26.860</td>\n",
       "      <td>5.8</td>\n",
       "      <td>390.996</td>\n",
       "    </tr>\n",
       "    <tr>\n",
       "      <th>1954-08-01</th>\n",
       "      <td>1.22</td>\n",
       "      <td>0.92</td>\n",
       "      <td>26.850</td>\n",
       "      <td>6.0</td>\n",
       "      <td>NaN</td>\n",
       "    </tr>\n",
       "    <tr>\n",
       "      <th>1954-09-01</th>\n",
       "      <td>1.07</td>\n",
       "      <td>1.01</td>\n",
       "      <td>26.810</td>\n",
       "      <td>6.1</td>\n",
       "      <td>NaN</td>\n",
       "    </tr>\n",
       "    <tr>\n",
       "      <th>1954-10-01</th>\n",
       "      <td>0.85</td>\n",
       "      <td>0.98</td>\n",
       "      <td>26.720</td>\n",
       "      <td>5.7</td>\n",
       "      <td>399.734</td>\n",
       "    </tr>\n",
       "    <tr>\n",
       "      <th>1954-11-01</th>\n",
       "      <td>0.83</td>\n",
       "      <td>0.93</td>\n",
       "      <td>26.780</td>\n",
       "      <td>5.3</td>\n",
       "      <td>NaN</td>\n",
       "    </tr>\n",
       "    <tr>\n",
       "      <th>...</th>\n",
       "      <td>...</td>\n",
       "      <td>...</td>\n",
       "      <td>...</td>\n",
       "      <td>...</td>\n",
       "      <td>...</td>\n",
       "    </tr>\n",
       "    <tr>\n",
       "      <th>2023-11-01</th>\n",
       "      <td>5.33</td>\n",
       "      <td>5.27</td>\n",
       "      <td>308.024</td>\n",
       "      <td>3.7</td>\n",
       "      <td>NaN</td>\n",
       "    </tr>\n",
       "    <tr>\n",
       "      <th>2023-12-01</th>\n",
       "      <td>5.33</td>\n",
       "      <td>5.24</td>\n",
       "      <td>308.742</td>\n",
       "      <td>3.7</td>\n",
       "      <td>NaN</td>\n",
       "    </tr>\n",
       "    <tr>\n",
       "      <th>2024-01-01</th>\n",
       "      <td>5.33</td>\n",
       "      <td>5.22</td>\n",
       "      <td>309.685</td>\n",
       "      <td>3.7</td>\n",
       "      <td>NaN</td>\n",
       "    </tr>\n",
       "    <tr>\n",
       "      <th>2024-02-01</th>\n",
       "      <td>5.33</td>\n",
       "      <td>5.24</td>\n",
       "      <td>311.054</td>\n",
       "      <td>3.9</td>\n",
       "      <td>NaN</td>\n",
       "    </tr>\n",
       "    <tr>\n",
       "      <th>2024-03-01</th>\n",
       "      <td>5.33</td>\n",
       "      <td>5.24</td>\n",
       "      <td>NaN</td>\n",
       "      <td>NaN</td>\n",
       "      <td>NaN</td>\n",
       "    </tr>\n",
       "  </tbody>\n",
       "</table>\n",
       "<p>837 rows × 5 columns</p>\n",
       "</div>"
      ],
      "text/plain": [
       "            FEDFUNDS  TB3MS  CPIAUCSL  UNRATE      GDP\n",
       "date                                                  \n",
       "1954-07-01      0.80   0.72    26.860     5.8  390.996\n",
       "1954-08-01      1.22   0.92    26.850     6.0      NaN\n",
       "1954-09-01      1.07   1.01    26.810     6.1      NaN\n",
       "1954-10-01      0.85   0.98    26.720     5.7  399.734\n",
       "1954-11-01      0.83   0.93    26.780     5.3      NaN\n",
       "...              ...    ...       ...     ...      ...\n",
       "2023-11-01      5.33   5.27   308.024     3.7      NaN\n",
       "2023-12-01      5.33   5.24   308.742     3.7      NaN\n",
       "2024-01-01      5.33   5.22   309.685     3.7      NaN\n",
       "2024-02-01      5.33   5.24   311.054     3.9      NaN\n",
       "2024-03-01      5.33   5.24       NaN     NaN      NaN\n",
       "\n",
       "[837 rows x 5 columns]"
      ]
     },
     "execution_count": 210,
     "metadata": {},
     "output_type": "execute_result"
    }
   ],
   "source": [
    "combine"
   ]
  },
  {
   "cell_type": "code",
   "execution_count": 781,
   "id": "291f09a0-c47d-4681-8532-0d04d83b5db1",
   "metadata": {},
   "outputs": [
    {
     "data": {
      "text/html": [
       "<div>\n",
       "<style scoped>\n",
       "    .dataframe tbody tr th:only-of-type {\n",
       "        vertical-align: middle;\n",
       "    }\n",
       "\n",
       "    .dataframe tbody tr th {\n",
       "        vertical-align: top;\n",
       "    }\n",
       "\n",
       "    .dataframe thead th {\n",
       "        text-align: right;\n",
       "    }\n",
       "</style>\n",
       "<table border=\"1\" class=\"dataframe\">\n",
       "  <thead>\n",
       "    <tr style=\"text-align: right;\">\n",
       "      <th></th>\n",
       "      <th>FEDFUNDS</th>\n",
       "      <th>TB3MS</th>\n",
       "      <th>CPIAUCSL</th>\n",
       "      <th>UNRATE</th>\n",
       "      <th>GDP</th>\n",
       "    </tr>\n",
       "    <tr>\n",
       "      <th>date</th>\n",
       "      <th></th>\n",
       "      <th></th>\n",
       "      <th></th>\n",
       "      <th></th>\n",
       "      <th></th>\n",
       "    </tr>\n",
       "  </thead>\n",
       "  <tbody>\n",
       "    <tr>\n",
       "      <th>2022-08-01</th>\n",
       "      <td>2.33</td>\n",
       "      <td>2.63</td>\n",
       "      <td>295.209</td>\n",
       "      <td>3.6</td>\n",
       "      <td>NaN</td>\n",
       "    </tr>\n",
       "    <tr>\n",
       "      <th>2022-09-01</th>\n",
       "      <td>2.56</td>\n",
       "      <td>3.13</td>\n",
       "      <td>296.341</td>\n",
       "      <td>3.5</td>\n",
       "      <td>NaN</td>\n",
       "    </tr>\n",
       "    <tr>\n",
       "      <th>2022-10-01</th>\n",
       "      <td>3.08</td>\n",
       "      <td>3.72</td>\n",
       "      <td>297.863</td>\n",
       "      <td>3.6</td>\n",
       "      <td>26408.405</td>\n",
       "    </tr>\n",
       "    <tr>\n",
       "      <th>2022-11-01</th>\n",
       "      <td>3.78</td>\n",
       "      <td>4.15</td>\n",
       "      <td>298.648</td>\n",
       "      <td>3.6</td>\n",
       "      <td>NaN</td>\n",
       "    </tr>\n",
       "    <tr>\n",
       "      <th>2022-12-01</th>\n",
       "      <td>4.10</td>\n",
       "      <td>4.25</td>\n",
       "      <td>298.812</td>\n",
       "      <td>3.5</td>\n",
       "      <td>NaN</td>\n",
       "    </tr>\n",
       "    <tr>\n",
       "      <th>2023-01-01</th>\n",
       "      <td>4.33</td>\n",
       "      <td>4.54</td>\n",
       "      <td>300.356</td>\n",
       "      <td>3.4</td>\n",
       "      <td>26813.601</td>\n",
       "    </tr>\n",
       "    <tr>\n",
       "      <th>2023-02-01</th>\n",
       "      <td>4.57</td>\n",
       "      <td>4.65</td>\n",
       "      <td>301.509</td>\n",
       "      <td>3.6</td>\n",
       "      <td>NaN</td>\n",
       "    </tr>\n",
       "    <tr>\n",
       "      <th>2023-03-01</th>\n",
       "      <td>4.65</td>\n",
       "      <td>4.69</td>\n",
       "      <td>301.744</td>\n",
       "      <td>3.5</td>\n",
       "      <td>NaN</td>\n",
       "    </tr>\n",
       "    <tr>\n",
       "      <th>2023-04-01</th>\n",
       "      <td>4.83</td>\n",
       "      <td>4.92</td>\n",
       "      <td>303.032</td>\n",
       "      <td>3.4</td>\n",
       "      <td>27063.012</td>\n",
       "    </tr>\n",
       "    <tr>\n",
       "      <th>2023-05-01</th>\n",
       "      <td>5.06</td>\n",
       "      <td>5.14</td>\n",
       "      <td>303.365</td>\n",
       "      <td>3.7</td>\n",
       "      <td>NaN</td>\n",
       "    </tr>\n",
       "    <tr>\n",
       "      <th>2023-06-01</th>\n",
       "      <td>5.08</td>\n",
       "      <td>5.16</td>\n",
       "      <td>304.003</td>\n",
       "      <td>3.6</td>\n",
       "      <td>NaN</td>\n",
       "    </tr>\n",
       "    <tr>\n",
       "      <th>2023-07-01</th>\n",
       "      <td>5.12</td>\n",
       "      <td>5.25</td>\n",
       "      <td>304.628</td>\n",
       "      <td>3.5</td>\n",
       "      <td>27610.128</td>\n",
       "    </tr>\n",
       "    <tr>\n",
       "      <th>2023-08-01</th>\n",
       "      <td>5.33</td>\n",
       "      <td>5.30</td>\n",
       "      <td>306.187</td>\n",
       "      <td>3.8</td>\n",
       "      <td>NaN</td>\n",
       "    </tr>\n",
       "    <tr>\n",
       "      <th>2023-09-01</th>\n",
       "      <td>5.33</td>\n",
       "      <td>5.32</td>\n",
       "      <td>307.288</td>\n",
       "      <td>3.8</td>\n",
       "      <td>NaN</td>\n",
       "    </tr>\n",
       "    <tr>\n",
       "      <th>2023-10-01</th>\n",
       "      <td>5.33</td>\n",
       "      <td>5.34</td>\n",
       "      <td>307.531</td>\n",
       "      <td>3.8</td>\n",
       "      <td>27956.998</td>\n",
       "    </tr>\n",
       "    <tr>\n",
       "      <th>2023-11-01</th>\n",
       "      <td>5.33</td>\n",
       "      <td>5.27</td>\n",
       "      <td>308.024</td>\n",
       "      <td>3.7</td>\n",
       "      <td>NaN</td>\n",
       "    </tr>\n",
       "    <tr>\n",
       "      <th>2023-12-01</th>\n",
       "      <td>5.33</td>\n",
       "      <td>5.24</td>\n",
       "      <td>308.742</td>\n",
       "      <td>3.7</td>\n",
       "      <td>NaN</td>\n",
       "    </tr>\n",
       "    <tr>\n",
       "      <th>2024-01-01</th>\n",
       "      <td>5.33</td>\n",
       "      <td>5.22</td>\n",
       "      <td>309.685</td>\n",
       "      <td>3.7</td>\n",
       "      <td>NaN</td>\n",
       "    </tr>\n",
       "    <tr>\n",
       "      <th>2024-02-01</th>\n",
       "      <td>5.33</td>\n",
       "      <td>5.24</td>\n",
       "      <td>311.054</td>\n",
       "      <td>3.9</td>\n",
       "      <td>NaN</td>\n",
       "    </tr>\n",
       "    <tr>\n",
       "      <th>2024-03-01</th>\n",
       "      <td>5.33</td>\n",
       "      <td>5.24</td>\n",
       "      <td>NaN</td>\n",
       "      <td>NaN</td>\n",
       "      <td>NaN</td>\n",
       "    </tr>\n",
       "  </tbody>\n",
       "</table>\n",
       "</div>"
      ],
      "text/plain": [
       "            FEDFUNDS  TB3MS  CPIAUCSL  UNRATE        GDP\n",
       "date                                                    \n",
       "2022-08-01      2.33   2.63   295.209     3.6        NaN\n",
       "2022-09-01      2.56   3.13   296.341     3.5        NaN\n",
       "2022-10-01      3.08   3.72   297.863     3.6  26408.405\n",
       "2022-11-01      3.78   4.15   298.648     3.6        NaN\n",
       "2022-12-01      4.10   4.25   298.812     3.5        NaN\n",
       "2023-01-01      4.33   4.54   300.356     3.4  26813.601\n",
       "2023-02-01      4.57   4.65   301.509     3.6        NaN\n",
       "2023-03-01      4.65   4.69   301.744     3.5        NaN\n",
       "2023-04-01      4.83   4.92   303.032     3.4  27063.012\n",
       "2023-05-01      5.06   5.14   303.365     3.7        NaN\n",
       "2023-06-01      5.08   5.16   304.003     3.6        NaN\n",
       "2023-07-01      5.12   5.25   304.628     3.5  27610.128\n",
       "2023-08-01      5.33   5.30   306.187     3.8        NaN\n",
       "2023-09-01      5.33   5.32   307.288     3.8        NaN\n",
       "2023-10-01      5.33   5.34   307.531     3.8  27956.998\n",
       "2023-11-01      5.33   5.27   308.024     3.7        NaN\n",
       "2023-12-01      5.33   5.24   308.742     3.7        NaN\n",
       "2024-01-01      5.33   5.22   309.685     3.7        NaN\n",
       "2024-02-01      5.33   5.24   311.054     3.9        NaN\n",
       "2024-03-01      5.33   5.24       NaN     NaN        NaN"
      ]
     },
     "execution_count": 781,
     "metadata": {},
     "output_type": "execute_result"
    }
   ],
   "source": [
    "combine.tail(20)"
   ]
  },
  {
   "cell_type": "code",
   "execution_count": 188,
   "id": "6b7f598f-422a-4aa7-bba4-2fc4df1d4ef4",
   "metadata": {},
   "outputs": [],
   "source": [
    "# FEDFUNDS is available on 1st of next month\n",
    "# TB3MS is available on 1st of next month\n",
    "# CPIAUCSL is available near 12th of next month\n",
    "# UNRATE is available near 8th of next month\n",
    "# GDP (advance estimate) is available near 28th of next month of quarter\n",
    "# GDP (second estimate) is available near 28th of next second month of quarter\n",
    "# GDP (third estimate) is available near 28th of next third month of quarter"
   ]
  },
  {
   "cell_type": "code",
   "execution_count": 787,
   "id": "e4bb73bf-7c74-4324-a1b0-b16ddeac0393",
   "metadata": {},
   "outputs": [],
   "source": [
    "import requests\n",
    "from bs4 import BeautifulSoup"
   ]
  },
  {
   "cell_type": "code",
   "execution_count": 786,
   "id": "bcf79f4f-db70-4858-882f-964e359a12a6",
   "metadata": {},
   "outputs": [],
   "source": [
    "result = requests.get('https://www.atlantafed.org/cqer/research/gdpnow/archives')"
   ]
  },
  {
   "cell_type": "code",
   "execution_count": 789,
   "id": "5350a5fa-1b0a-41ec-9fe6-7a0e5caee59f",
   "metadata": {},
   "outputs": [],
   "source": [
    "soup = BeautifulSoup(result.text, 'html.parser')"
   ]
  },
  {
   "cell_type": "code",
   "execution_count": 873,
   "id": "852e796b-411b-4c01-ac88-d1149a4f3538",
   "metadata": {},
   "outputs": [],
   "source": [
    "GDP_forecast_archives = soup.select_one('div[class=\"row GDPNowAllUpdates\"] > p:nth-of-type(2)').contents"
   ]
  },
  {
   "cell_type": "code",
   "execution_count": 995,
   "id": "fe273130-433d-4bd1-932c-04e4fbf9b6ee",
   "metadata": {},
   "outputs": [
    {
     "data": {
      "text/plain": [
       "['The GDPNow model estimate for real GDP growth (seasonally adjusted annual rate) in the first quarter of 2024 is ',\n",
       " <strong>2.5 percent</strong>,\n",
       " ' on April 4, down from 2.8 percent on April 1. After this morning’s international release from the US Census Bureau and the US Bureau of Economic Analysis, the nowcast of the contribution of net exports to annualized first-quarter real GDP growth decreased from -0.48 percentage points to -0.57 percentage points.']"
      ]
     },
     "execution_count": 995,
     "metadata": {},
     "output_type": "execute_result"
    }
   ],
   "source": [
    "soup.select('div[class=\"row GDPNowAllUpdates\"] > p:nth-of-type(2)')[0].contents"
   ]
  },
  {
   "cell_type": "code",
   "execution_count": 907,
   "id": "a3cba4c9-72ed-412d-924e-4ac7e4a6e50d",
   "metadata": {},
   "outputs": [],
   "source": [
    "dict_quarter_to_month = {\n",
    "    'first': '01',\n",
    "    'second': '04',\n",
    "    'third': '07',\n",
    "    'fourth': '10'}"
   ]
  },
  {
   "cell_type": "code",
   "execution_count": 906,
   "id": "ab1324ea-7b38-48e8-ada8-32f8a2a2812c",
   "metadata": {},
   "outputs": [],
   "source": [
    "GDP_forecast_date_pre = GDP_forecast_archives[0]\n",
    "word = GDP_forecast_date_pre.split()\n",
    "quarter_index = word.index('quarter')\n",
    "quarter_num = word[quarter_index-1]\n",
    "year = word[quarter_index+2]"
   ]
  },
  {
   "cell_type": "code",
   "execution_count": 908,
   "id": "4d038717-40ea-44b7-b19b-b4080e11540b",
   "metadata": {},
   "outputs": [],
   "source": [
    "GDP_forecast_date = pd.to_datetime(year+'-'+dict_quarter_to_month[quarter_num]+'-01')"
   ]
  },
  {
   "cell_type": "code",
   "execution_count": 915,
   "id": "7b41bdb6-8780-4396-9e51-d0dcbb6ff0c1",
   "metadata": {},
   "outputs": [],
   "source": [
    "GDP_forecast_percent_pre = GDP_forecast_archives[1]\n",
    "GDP_forecast_percent = float(GDP_forecast_percent_pre.text.split()[0])"
   ]
  },
  {
   "cell_type": "code",
   "execution_count": 917,
   "id": "880b9abc-310c-40fe-a2e2-2b2ca87112ae",
   "metadata": {},
   "outputs": [
    {
     "data": {
      "text/plain": [
       "(Timestamp('2024-01-01 00:00:00'), 2.5)"
      ]
     },
     "execution_count": 917,
     "metadata": {},
     "output_type": "execute_result"
    }
   ],
   "source": [
    "GDP_forecast_date, GDP_forecast_percent"
   ]
  },
  {
   "cell_type": "code",
   "execution_count": null,
   "id": "74e3c88d-6194-41b8-8f70-8cb1803a95ad",
   "metadata": {},
   "outputs": [],
   "source": []
  },
  {
   "cell_type": "code",
   "execution_count": 1010,
   "id": "002135d4-3d3f-489e-968b-34b54b12b1ef",
   "metadata": {},
   "outputs": [
    {
     "data": {
      "text/plain": [
       "'April 04, 2024'"
      ]
     },
     "execution_count": 1010,
     "metadata": {},
     "output_type": "execute_result"
    }
   ],
   "source": [
    "soup.select('div[class=\"row GDPNowAllUpdates\"] > p:nth-of-type(1)')[0].text"
   ]
  },
  {
   "cell_type": "code",
   "execution_count": null,
   "id": "65667150-f535-4fb2-8883-60855a584d3f",
   "metadata": {},
   "outputs": [],
   "source": [
    "    result = requests.get('https://www.atlantafed.org/cqer/research/gdpnow/archives')\n",
    "    soup = BeautifulSoup(result.text, 'html.parser')"
   ]
  },
  {
   "cell_type": "code",
   "execution_count": 1028,
   "id": "449f08a7-9dad-4768-a61a-d3cc7b0c5fe4",
   "metadata": {},
   "outputs": [],
   "source": [
    "def GDP_forecast(order=0):\n",
    "    \n",
    "    dict_quarter_to_month = {'first': '01', 'second': '04', 'third': '07', 'fourth': '10'}\n",
    "    css_GDP_forecast_archives = 'div[class=\"row GDPNowAllUpdates\"] > p:nth-of-type(2)'\n",
    "    GDP_forecast_archives = soup.select(css_GDP_forecast_archives)[order].text.split()\n",
    "    \n",
    "    quarter_index = GDP_forecast_archives.index('quarter')\n",
    "    quarter_num = GDP_forecast_archives[quarter_index - 1]\n",
    "    year = GDP_forecast_archives[quarter_index + 2]\n",
    "    GDP_forecast_date = pd.to_datetime(year + '-' + dict_quarter_to_month[quarter_num] + '-01')\n",
    "\n",
    "    percent_index = GDP_forecast_archives.index('percent')\n",
    "    percent_num = GDP_forecast_archives[percent_index - 1]\n",
    "    GDP_forecast_percent = float(percent_num)\n",
    "\n",
    "    css_publish_date = 'div[class=\"row GDPNowAllUpdates\"] > p:nth-of-type(1)'\n",
    "    publish_date = soup.select(css_publish_date)[order].text\n",
    "    \n",
    "    return GDP_forecast_date, GDP_forecast_percent, publish_date"
   ]
  },
  {
   "cell_type": "code",
   "execution_count": 1036,
   "id": "044e15bf-d30a-4bbd-b7aa-5fcb74b6d4aa",
   "metadata": {},
   "outputs": [
    {
     "name": "stdout",
     "output_type": "stream",
     "text": [
      "(Timestamp('2024-01-01 00:00:00'), 2.5, 'April 04, 2024')\n",
      "(Timestamp('2024-01-01 00:00:00'), 2.8, 'April 01, 2024')\n",
      "(Timestamp('2024-01-01 00:00:00'), 2.3, 'March 29, 2024')\n",
      "(Timestamp('2024-01-01 00:00:00'), 2.1, 'March 26, 2024')\n",
      "(Timestamp('2024-01-01 00:00:00'), 2.1, 'March 19, 2024')\n",
      "(Timestamp('2024-01-01 00:00:00'), 2.3, 'March 14, 2024')\n",
      "(Timestamp('2024-01-01 00:00:00'), 2.5, 'March 07, 2024')\n",
      "(Timestamp('2024-01-01 00:00:00'), 2.5, 'March 06, 2024')\n",
      "(Timestamp('2024-01-01 00:00:00'), 2.1, 'March 01, 2024')\n",
      "(Timestamp('2024-01-01 00:00:00'), 3.0, 'February 29, 2024')\n",
      "(Timestamp('2024-01-01 00:00:00'), 3.2, 'February 27, 2024')\n",
      "(Timestamp('2024-01-01 00:00:00'), 2.9, 'February 16, 2024')\n",
      "(Timestamp('2024-01-01 00:00:00'), 2.9, 'February 15, 2024')\n",
      "(Timestamp('2024-01-01 00:00:00'), 3.4, 'February 08, 2024')\n",
      "(Timestamp('2024-01-01 00:00:00'), 3.4, 'February 07, 2024')\n",
      "(Timestamp('2024-01-01 00:00:00'), 4.2, 'February 01, 2024')\n",
      "(Timestamp('2024-01-01 00:00:00'), 3.0, 'January 26, 2024')\n",
      "(Timestamp('2023-10-01 00:00:00'), 2.4, 'January 19, 2024')\n",
      "(Timestamp('2023-10-01 00:00:00'), 2.4, 'January 18, 2024')\n",
      "(Timestamp('2023-10-01 00:00:00'), 2.4, 'January 17, 2024')\n",
      "(Timestamp('2023-10-01 00:00:00'), 2.2, 'January 10, 2024')\n",
      "(Timestamp('2023-10-01 00:00:00'), 2.2, 'January 09, 2024')\n",
      "(Timestamp('2023-10-01 00:00:00'), 2.5, 'January 03, 2024')\n",
      "(Timestamp('2023-10-01 00:00:00'), 2.0, 'January 02, 2024')\n",
      "(Timestamp('2023-10-01 00:00:00'), 2.3, 'December 22, 2023')\n",
      "(Timestamp('2023-10-01 00:00:00'), 2.7, 'December 19, 2023')\n",
      "(Timestamp('2023-10-01 00:00:00'), 2.6, 'December 14, 2023')\n",
      "(Timestamp('2023-10-01 00:00:00'), 1.2, 'December 07, 2023')\n",
      "(Timestamp('2023-10-01 00:00:00'), 1.3, 'December 06, 2023')\n",
      "(Timestamp('2023-10-01 00:00:00'), 1.2, 'December 01, 2023')\n",
      "(Timestamp('2023-10-01 00:00:00'), 1.8, 'November 30, 2023')\n",
      "(Timestamp('2023-10-01 00:00:00'), 2.1, 'November 22, 2023')\n",
      "(Timestamp('2023-10-01 00:00:00'), 2.0, 'November 17, 2023')\n",
      "(Timestamp('2023-10-01 00:00:00'), 2.2, 'November 15, 2023')\n",
      "(Timestamp('2023-10-01 00:00:00'), 2.1, 'November 08, 2023')\n",
      "(Timestamp('2023-10-01 00:00:00'), 2.1, 'November 07, 2023')\n",
      "(Timestamp('2023-10-01 00:00:00'), 1.2, 'November 01, 2023')\n",
      "(Timestamp('2023-10-01 00:00:00'), 2.3, 'October 27, 2023')\n",
      "(Timestamp('2023-07-01 00:00:00'), 5.4, 'October 25, 2023')\n",
      "(Timestamp('2023-07-01 00:00:00'), 5.4, 'October 18, 2023')\n"
     ]
    }
   ],
   "source": [
    "for i in range(40):\n",
    "    print(GDP_forecast(i))"
   ]
  },
  {
   "cell_type": "code",
   "execution_count": 1041,
   "id": "3fe9a4eb-a24a-4684-871a-624ac073bedd",
   "metadata": {},
   "outputs": [
    {
     "data": {
      "text/plain": [
       "date\n",
       "1954-07-01             NaN\n",
       "1954-08-01             NaN\n",
       "1954-09-01      390.996000\n",
       "1954-10-01      393.908667\n",
       "1954-11-01      396.821333\n",
       "                  ...     \n",
       "2023-11-01    27841.374667\n",
       "2023-12-01    27956.998000\n",
       "2024-01-01             NaN\n",
       "2024-02-01             NaN\n",
       "2024-03-01             NaN\n",
       "Name: GDP, Length: 837, dtype: float64"
      ]
     },
     "execution_count": 1041,
     "metadata": {},
     "output_type": "execute_result"
    }
   ],
   "source": [
    "combine['GDP'].interpolate(limit_direction='backward').shift(2)"
   ]
  },
  {
   "cell_type": "code",
   "execution_count": 192,
   "id": "4ff6838c-c503-476f-a8e8-e581cdd42cf7",
   "metadata": {},
   "outputs": [],
   "source": [
    "# https://www.clevelandfed.org/indicators-and-data/inflation-nowcasting\n",
    "# MONTH-OVER-MONTH PERCENT CHANGE for March 2024 is 0.34%\n",
    "CPIAUCSL_percent = 0.34\n",
    "\n",
    "# https://zh.tradingeconomics.com/united-states/unemployment-rate\n",
    "# Unemployment-rate March 2024 predicted is 3.9% (growth = 0%)\n",
    "UNRATE_percent = 0\n",
    "\n",
    "# https://www.atlantafed.org/cqer/research/gdpnow\n",
    "# GDP growth is 2.8%\n",
    "GDP_percent = 2.8"
   ]
  },
  {
   "cell_type": "code",
   "execution_count": 247,
   "id": "60b5fea2-f9c7-4d62-9b6b-5155367b9e7c",
   "metadata": {},
   "outputs": [],
   "source": [
    "def fillna_with_percent_of_last_value(series, percent=0):\n",
    "    series = series.copy()\n",
    "    i = 1\n",
    "    while pd.isna(series.iloc[-i]):  \n",
    "        i += 1\n",
    "    else:   \n",
    "        if i != 1:\n",
    "            series.iloc[-1] = round(series.iloc[-i] * (1 + percent / 100),3)\n",
    "        return series"
   ]
  },
  {
   "cell_type": "code",
   "execution_count": 248,
   "id": "f8ee45b0-622b-4738-9e96-9acbeffe23c0",
   "metadata": {},
   "outputs": [
    {
     "data": {
      "text/plain": [
       "date\n",
       "1954-07-01     26.860\n",
       "1954-08-01     26.850\n",
       "1954-09-01     26.810\n",
       "1954-10-01     26.720\n",
       "1954-11-01     26.780\n",
       "               ...   \n",
       "2023-11-01    308.024\n",
       "2023-12-01    308.742\n",
       "2024-01-01    309.685\n",
       "2024-02-01    311.054\n",
       "2024-03-01    312.112\n",
       "Name: CPIAUCSL, Length: 837, dtype: float64"
      ]
     },
     "execution_count": 248,
     "metadata": {},
     "output_type": "execute_result"
    }
   ],
   "source": [
    "fillna_with_percent_of_last_value(combine['CPIAUCSL'], CPIAUCSL_percent)"
   ]
  },
  {
   "cell_type": "code",
   "execution_count": 250,
   "id": "718849b9-4281-4890-8e2c-b62014b7d9dd",
   "metadata": {},
   "outputs": [
    {
     "data": {
      "text/plain": [
       "date\n",
       "1954-07-01    5.8\n",
       "1954-08-01    6.0\n",
       "1954-09-01    6.1\n",
       "1954-10-01    5.7\n",
       "1954-11-01    5.3\n",
       "             ... \n",
       "2023-11-01    3.7\n",
       "2023-12-01    3.7\n",
       "2024-01-01    3.7\n",
       "2024-02-01    3.9\n",
       "2024-03-01    3.9\n",
       "Name: UNRATE, Length: 837, dtype: float64"
      ]
     },
     "execution_count": 250,
     "metadata": {},
     "output_type": "execute_result"
    }
   ],
   "source": [
    "fillna_with_percent_of_last_value(combine['UNRATE'], UNRATE_percent)"
   ]
  },
  {
   "cell_type": "code",
   "execution_count": 776,
   "id": "246c9a87-b72f-4961-b6ec-56ff73309163",
   "metadata": {},
   "outputs": [],
   "source": [
    "def check_na(series):\n",
    "    i = 1\n",
    "    while pd.isna(series.iloc[-i]):  \n",
    "        i += 1\n",
    "    return i - 1"
   ]
  },
  {
   "cell_type": "code",
   "execution_count": 777,
   "id": "1e638b31-478c-4eae-9958-4bf125b28daa",
   "metadata": {},
   "outputs": [],
   "source": [
    "def fillna_with_two_adj_value(series):\n",
    "    series = series.copy()\n",
    "    for i in range(-1, 1):\n",
    "        j = i\n",
    "        while pd.isna(series.iloc[j]):  \n",
    "            j = j + 1 - 2 * (i < 0)\n",
    "        else:   \n",
    "            if i != j:\n",
    "                series.iloc[i] = series.iloc[j] * 2 - series.iloc[j + 1 - 2 * (i < 0)]\n",
    "    return series"
   ]
  },
  {
   "cell_type": "code",
   "execution_count": 778,
   "id": "a397626b-5676-429f-978b-8c90d8885a3e",
   "metadata": {},
   "outputs": [],
   "source": [
    "def process_gdp(series, percent = 0):\n",
    "    series = series.copy()\n",
    "    na = check_na(series)\n",
    "    shift = na - 3 - (na > 0)\n",
    "    \n",
    "    series_intrp_1 = series.interpolate(limit_direction='backward').shift(1)\n",
    "    series_shift = series_intrp_1.shift(shift)\n",
    "    series_percent = fillna_with_percent_of_last_value(series_shift, percent)\n",
    "    series_intrp_2 = series_percent.interpolate(limit_direction='forward').shift(-shift)\n",
    "    series_final = series_intrp_2.fillna(value=series_intrp_1)\n",
    "    \n",
    "    return fillna_with_two_adj_value(series_final)"
   ]
  },
  {
   "cell_type": "code",
   "execution_count": 779,
   "id": "572efa15-65a3-4388-812b-92bbcf77558e",
   "metadata": {},
   "outputs": [
    {
     "data": {
      "text/plain": [
       "date\n",
       "1954-07-01      388.083333\n",
       "1954-08-01      390.996000\n",
       "1954-09-01      393.908667\n",
       "1954-10-01      396.821333\n",
       "1954-11-01      399.734000\n",
       "                  ...     \n",
       "2023-06-01    27245.384000\n",
       "2023-07-01    27427.756000\n",
       "2023-08-01    27610.128000\n",
       "2023-09-01    27725.751333\n",
       "2023-10-01    27841.374667\n",
       "Name: GDP, Length: 832, dtype: float64"
      ]
     },
     "execution_count": 779,
     "metadata": {},
     "output_type": "execute_result"
    }
   ],
   "source": [
    "process_gdp(combine['GDP'].iloc[:-5], GDP_percent)"
   ]
  },
  {
   "cell_type": "code",
   "execution_count": 652,
   "id": "72111466-a9f9-4d45-a40a-f5d044a6e381",
   "metadata": {},
   "outputs": [
    {
     "data": {
      "text/plain": [
       "date\n",
       "1954-07-01      388.083333\n",
       "1954-08-01      390.996000\n",
       "1954-09-01      393.908667\n",
       "1954-10-01      396.821333\n",
       "1954-11-01      399.734000\n",
       "                  ...     \n",
       "2023-11-01    27956.998000\n",
       "2023-12-01    28217.930000\n",
       "2024-01-01    28478.862000\n",
       "2024-02-01    28739.794000\n",
       "2024-03-01    29000.726000\n",
       "Name: GDP, Length: 837, dtype: float64"
      ]
     },
     "execution_count": 652,
     "metadata": {},
     "output_type": "execute_result"
    }
   ],
   "source": [
    "process_gdp(combine['GDP'], GDP_percent)"
   ]
  },
  {
   "cell_type": "code",
   "execution_count": 764,
   "id": "1ba2c48d-a178-4901-a33f-e97bea134a47",
   "metadata": {},
   "outputs": [
    {
     "data": {
      "text/plain": [
       "date\n",
       "1954-07-01      390.996\n",
       "1954-08-01          NaN\n",
       "1954-09-01          NaN\n",
       "1954-10-01      399.734\n",
       "1954-11-01          NaN\n",
       "                ...    \n",
       "2023-06-01          NaN\n",
       "2023-07-01    27610.128\n",
       "2023-08-01          NaN\n",
       "2023-09-01          NaN\n",
       "2023-10-01    27956.998\n",
       "Name: GDP, Length: 832, dtype: float64"
      ]
     },
     "execution_count": 764,
     "metadata": {},
     "output_type": "execute_result"
    }
   ],
   "source": [
    "combine['GDP'].iloc[:-5]"
   ]
  },
  {
   "cell_type": "code",
   "execution_count": 655,
   "id": "f52420a3-87e7-434e-9d8b-3e1d6ec3c065",
   "metadata": {},
   "outputs": [],
   "source": [
    "def concat_series(series, na, percent):\n",
    "    temp = process_gdp(series, percent)\n",
    "    for i in range(1, na):\n",
    "        temp = pd.concat([temp, process_gdp(series.iloc[:-i], percent)], axis=1)\n",
    "    return temp"
   ]
  },
  {
   "cell_type": "code",
   "execution_count": 765,
   "id": "ecfb810e-2fc8-4c9d-9110-c531e2a1cfed",
   "metadata": {},
   "outputs": [],
   "source": [
    "result = concat_series(combine['GDP'], 5, GDP_percent)"
   ]
  },
  {
   "cell_type": "code",
   "execution_count": 766,
   "id": "46d09964-83e5-4bed-8185-884c9fdb6621",
   "metadata": {},
   "outputs": [
    {
     "data": {
      "text/plain": [
       "-9.265477274311706e-12"
      ]
     },
     "execution_count": 766,
     "metadata": {},
     "output_type": "execute_result"
    }
   ],
   "source": [
    "sum(result.mean(axis=1) - result.iloc[:,0])"
   ]
  },
  {
   "cell_type": "code",
   "execution_count": 767,
   "id": "7e9f5d60-4ab4-4bf6-9c39-0376202eacf5",
   "metadata": {},
   "outputs": [
    {
     "data": {
      "text/html": [
       "<div>\n",
       "<style scoped>\n",
       "    .dataframe tbody tr th:only-of-type {\n",
       "        vertical-align: middle;\n",
       "    }\n",
       "\n",
       "    .dataframe tbody tr th {\n",
       "        vertical-align: top;\n",
       "    }\n",
       "\n",
       "    .dataframe thead th {\n",
       "        text-align: right;\n",
       "    }\n",
       "</style>\n",
       "<table border=\"1\" class=\"dataframe\">\n",
       "  <thead>\n",
       "    <tr style=\"text-align: right;\">\n",
       "      <th></th>\n",
       "      <th>GDP</th>\n",
       "      <th>GDP</th>\n",
       "      <th>GDP</th>\n",
       "      <th>GDP</th>\n",
       "      <th>GDP</th>\n",
       "    </tr>\n",
       "    <tr>\n",
       "      <th>date</th>\n",
       "      <th></th>\n",
       "      <th></th>\n",
       "      <th></th>\n",
       "      <th></th>\n",
       "      <th></th>\n",
       "    </tr>\n",
       "  </thead>\n",
       "  <tbody>\n",
       "    <tr>\n",
       "      <th>2023-12-01</th>\n",
       "      <td>28217.930</td>\n",
       "      <td>28217.930</td>\n",
       "      <td>28217.930</td>\n",
       "      <td>28217.93</td>\n",
       "      <td>NaN</td>\n",
       "    </tr>\n",
       "    <tr>\n",
       "      <th>2024-01-01</th>\n",
       "      <td>28478.862</td>\n",
       "      <td>28478.862</td>\n",
       "      <td>28478.862</td>\n",
       "      <td>NaN</td>\n",
       "      <td>NaN</td>\n",
       "    </tr>\n",
       "    <tr>\n",
       "      <th>2024-02-01</th>\n",
       "      <td>28739.794</td>\n",
       "      <td>28739.794</td>\n",
       "      <td>NaN</td>\n",
       "      <td>NaN</td>\n",
       "      <td>NaN</td>\n",
       "    </tr>\n",
       "    <tr>\n",
       "      <th>2024-03-01</th>\n",
       "      <td>29000.726</td>\n",
       "      <td>NaN</td>\n",
       "      <td>NaN</td>\n",
       "      <td>NaN</td>\n",
       "      <td>NaN</td>\n",
       "    </tr>\n",
       "  </tbody>\n",
       "</table>\n",
       "</div>"
      ],
      "text/plain": [
       "                  GDP        GDP        GDP       GDP  GDP\n",
       "date                                                      \n",
       "2023-12-01  28217.930  28217.930  28217.930  28217.93  NaN\n",
       "2024-01-01  28478.862  28478.862  28478.862       NaN  NaN\n",
       "2024-02-01  28739.794  28739.794        NaN       NaN  NaN\n",
       "2024-03-01  29000.726        NaN        NaN       NaN  NaN"
      ]
     },
     "execution_count": 767,
     "metadata": {},
     "output_type": "execute_result"
    }
   ],
   "source": [
    "result[~result.eq(result.iloc[:, 0], axis=0).all(1)]"
   ]
  },
  {
   "cell_type": "code",
   "execution_count": null,
   "id": "612577ee-0704-4765-8ad8-ba19acb2aacd",
   "metadata": {},
   "outputs": [],
   "source": []
  },
  {
   "cell_type": "code",
   "execution_count": null,
   "id": "9325cee0-6513-4a27-a17e-5f7b3107b00b",
   "metadata": {},
   "outputs": [],
   "source": []
  },
  {
   "cell_type": "code",
   "execution_count": 263,
   "id": "6ecaa232-31df-4847-b75a-3d02a21775fa",
   "metadata": {},
   "outputs": [],
   "source": [
    "GDP_intrp_1 = combine['GDP'].interpolate(limit_direction='backward').shift(2)"
   ]
  },
  {
   "cell_type": "code",
   "execution_count": 264,
   "id": "d4f5a445-7a77-4e8f-bb90-62320c85dcfe",
   "metadata": {},
   "outputs": [],
   "source": [
    "GDP_intrp_1_fill_1 = fillna_with_percent_of_last_value(GDP_intrp_1, GDP_percent)"
   ]
  },
  {
   "cell_type": "code",
   "execution_count": 265,
   "id": "1066ec6d-835a-4c7c-9683-357df891ff7f",
   "metadata": {},
   "outputs": [],
   "source": [
    "GDP_intrp_2_fill_1 = GDP_intrp_1_fill_1.interpolate(limit_direction='forward').shift(-1)"
   ]
  },
  {
   "cell_type": "code",
   "execution_count": 266,
   "id": "fe8a652d-7b03-431d-8af0-70614d5115b8",
   "metadata": {},
   "outputs": [
    {
     "data": {
      "text/plain": [
       "date\n",
       "1954-07-01             NaN\n",
       "1954-08-01      390.996000\n",
       "1954-09-01      393.908667\n",
       "1954-10-01      396.821333\n",
       "1954-11-01      399.734000\n",
       "                  ...     \n",
       "2023-11-01    27956.998000\n",
       "2023-12-01    28217.930000\n",
       "2024-01-01    28478.862000\n",
       "2024-02-01    28739.794000\n",
       "2024-03-01             NaN\n",
       "Name: GDP, Length: 837, dtype: float64"
      ]
     },
     "execution_count": 266,
     "metadata": {},
     "output_type": "execute_result"
    }
   ],
   "source": [
    "GDP_intrp_2_fill_1"
   ]
  },
  {
   "cell_type": "code",
   "execution_count": 769,
   "id": "64a683f2-91f0-4a78-95c7-c619f8eeee85",
   "metadata": {},
   "outputs": [],
   "source": [
    "check = fillna_with_two_adj_value(GDP_intrp_2_fill_1)"
   ]
  },
  {
   "cell_type": "code",
   "execution_count": 773,
   "id": "a11b5320-0a74-4265-8b79-cb1ef51214bf",
   "metadata": {},
   "outputs": [
    {
     "data": {
      "text/plain": [
       "date\n",
       "1954-07-01      388.083333\n",
       "1954-08-01      390.996000\n",
       "1954-09-01      393.908667\n",
       "1954-10-01      396.821333\n",
       "1954-11-01      399.734000\n",
       "                  ...     \n",
       "2023-11-01    27956.998000\n",
       "2023-12-01    28217.930000\n",
       "2024-01-01    28478.862000\n",
       "2024-02-01    28739.794000\n",
       "2024-03-01    29000.726000\n",
       "Name: GDP, Length: 837, dtype: float64"
      ]
     },
     "execution_count": 773,
     "metadata": {},
     "output_type": "execute_result"
    }
   ],
   "source": [
    "check"
   ]
  },
  {
   "cell_type": "code",
   "execution_count": 780,
   "id": "b37c6ef0-5d9c-4150-820a-0b96de938613",
   "metadata": {},
   "outputs": [
    {
     "data": {
      "text/plain": [
       "0"
      ]
     },
     "execution_count": 780,
     "metadata": {},
     "output_type": "execute_result"
    }
   ],
   "source": [
    "sum(~(check == process_gdp(combine['GDP'], GDP_percent)))"
   ]
  },
  {
   "cell_type": "markdown",
   "id": "7c5d9719-f7d1-4d96-993f-74364efd0479",
   "metadata": {},
   "source": [
    "# 3. Save Data into Google Bigquery"
   ]
  },
  {
   "cell_type": "code",
   "execution_count": 6,
   "id": "9f16a9cb-e9ae-4095-9f3a-ab68d7d4cce8",
   "metadata": {
    "scrolled": true
   },
   "outputs": [
    {
     "name": "stderr",
     "output_type": "stream",
     "text": [
      "100%|███████████████████████████████████████████| 1/1 [00:00<00:00, 2182.26it/s]\n",
      "100%|███████████████████████████████████████████| 1/1 [00:00<00:00, 8542.37it/s]\n",
      "100%|███████████████████████████████████████████| 1/1 [00:00<00:00, 8338.58it/s]\n",
      "100%|███████████████████████████████████████████| 1/1 [00:00<00:00, 6326.25it/s]\n",
      "100%|███████████████████████████████████████████| 1/1 [00:00<00:00, 9078.58it/s]\n"
     ]
    }
   ],
   "source": [
    "# key is generated at Service Account and downloaded in json format\n",
    "# default credentials is set under environment variable \"GOOGLE_APPLICATION_CREDENTIALS\"\n",
    "# the value of \"GOOGLE_APPLICATION_CREDENTIALS\" is set to path of json e.g. '/Users/.../project_id.json'\n",
    "\n",
    "# get project_id from json\n",
    "credentials, project_id = google.auth.default()\n",
    "database_id = 'data'\n",
    "\n",
    "# save financial data into Google bigquery\n",
    "for df_name in dict_df:\n",
    "    table_id = df_name\n",
    "    dict_df[df_name].to_gbq(f'{database_id}.{table_id}', project_id=project_id, if_exists='replace')"
   ]
  },
  {
   "cell_type": "code",
   "execution_count": 7,
   "id": "ec676e4d-5a80-4734-860d-c06d22ac14da",
   "metadata": {},
   "outputs": [
    {
     "data": {
      "text/html": [
       "<div>\n",
       "<style scoped>\n",
       "    .dataframe tbody tr th:only-of-type {\n",
       "        vertical-align: middle;\n",
       "    }\n",
       "\n",
       "    .dataframe tbody tr th {\n",
       "        vertical-align: top;\n",
       "    }\n",
       "\n",
       "    .dataframe thead th {\n",
       "        text-align: right;\n",
       "    }\n",
       "</style>\n",
       "<table border=\"1\" class=\"dataframe\">\n",
       "  <thead>\n",
       "    <tr style=\"text-align: right;\">\n",
       "      <th></th>\n",
       "      <th>date</th>\n",
       "      <th>FEDFUNDS</th>\n",
       "    </tr>\n",
       "  </thead>\n",
       "  <tbody>\n",
       "    <tr>\n",
       "      <th>0</th>\n",
       "      <td>1961-08-01</td>\n",
       "      <td>2.00</td>\n",
       "    </tr>\n",
       "    <tr>\n",
       "      <th>1</th>\n",
       "      <td>2008-06-01</td>\n",
       "      <td>2.00</td>\n",
       "    </tr>\n",
       "    <tr>\n",
       "      <th>2</th>\n",
       "      <td>2008-08-01</td>\n",
       "      <td>2.00</td>\n",
       "    </tr>\n",
       "    <tr>\n",
       "      <th>3</th>\n",
       "      <td>1956-02-01</td>\n",
       "      <td>2.50</td>\n",
       "    </tr>\n",
       "    <tr>\n",
       "      <th>4</th>\n",
       "      <td>1956-03-01</td>\n",
       "      <td>2.50</td>\n",
       "    </tr>\n",
       "    <tr>\n",
       "      <th>...</th>\n",
       "      <td>...</td>\n",
       "      <td>...</td>\n",
       "    </tr>\n",
       "    <tr>\n",
       "      <th>832</th>\n",
       "      <td>1983-10-01</td>\n",
       "      <td>9.48</td>\n",
       "    </tr>\n",
       "    <tr>\n",
       "      <th>833</th>\n",
       "      <td>1980-05-01</td>\n",
       "      <td>10.98</td>\n",
       "    </tr>\n",
       "    <tr>\n",
       "      <th>834</th>\n",
       "      <td>2008-11-01</td>\n",
       "      <td>0.39</td>\n",
       "    </tr>\n",
       "    <tr>\n",
       "      <th>835</th>\n",
       "      <td>2016-07-01</td>\n",
       "      <td>0.39</td>\n",
       "    </tr>\n",
       "    <tr>\n",
       "      <th>836</th>\n",
       "      <td>2008-09-01</td>\n",
       "      <td>1.81</td>\n",
       "    </tr>\n",
       "  </tbody>\n",
       "</table>\n",
       "<p>837 rows × 2 columns</p>\n",
       "</div>"
      ],
      "text/plain": [
       "          date  FEDFUNDS\n",
       "0   1961-08-01      2.00\n",
       "1   2008-06-01      2.00\n",
       "2   2008-08-01      2.00\n",
       "3   1956-02-01      2.50\n",
       "4   1956-03-01      2.50\n",
       "..         ...       ...\n",
       "832 1983-10-01      9.48\n",
       "833 1980-05-01     10.98\n",
       "834 2008-11-01      0.39\n",
       "835 2016-07-01      0.39\n",
       "836 2008-09-01      1.81\n",
       "\n",
       "[837 rows x 2 columns]"
      ]
     },
     "metadata": {},
     "output_type": "display_data"
    },
    {
     "data": {
      "text/html": [
       "<div>\n",
       "<style scoped>\n",
       "    .dataframe tbody tr th:only-of-type {\n",
       "        vertical-align: middle;\n",
       "    }\n",
       "\n",
       "    .dataframe tbody tr th {\n",
       "        vertical-align: top;\n",
       "    }\n",
       "\n",
       "    .dataframe thead th {\n",
       "        text-align: right;\n",
       "    }\n",
       "</style>\n",
       "<table border=\"1\" class=\"dataframe\">\n",
       "  <thead>\n",
       "    <tr style=\"text-align: right;\">\n",
       "      <th></th>\n",
       "      <th>date</th>\n",
       "      <th>TB3MS</th>\n",
       "    </tr>\n",
       "  </thead>\n",
       "  <tbody>\n",
       "    <tr>\n",
       "      <th>0</th>\n",
       "      <td>1956-03-01</td>\n",
       "      <td>2.25</td>\n",
       "    </tr>\n",
       "    <tr>\n",
       "      <th>1</th>\n",
       "      <td>1960-12-01</td>\n",
       "      <td>2.25</td>\n",
       "    </tr>\n",
       "    <tr>\n",
       "      <th>2</th>\n",
       "      <td>2018-10-01</td>\n",
       "      <td>2.25</td>\n",
       "    </tr>\n",
       "    <tr>\n",
       "      <th>3</th>\n",
       "      <td>2008-01-01</td>\n",
       "      <td>2.75</td>\n",
       "    </tr>\n",
       "    <tr>\n",
       "      <th>4</th>\n",
       "      <td>1993-01-01</td>\n",
       "      <td>3.00</td>\n",
       "    </tr>\n",
       "    <tr>\n",
       "      <th>...</th>\n",
       "      <td>...</td>\n",
       "      <td>...</td>\n",
       "    </tr>\n",
       "    <tr>\n",
       "      <th>1078</th>\n",
       "      <td>1948-08-01</td>\n",
       "      <td>1.06</td>\n",
       "    </tr>\n",
       "    <tr>\n",
       "      <th>1079</th>\n",
       "      <td>1950-10-01</td>\n",
       "      <td>1.31</td>\n",
       "    </tr>\n",
       "    <tr>\n",
       "      <th>1080</th>\n",
       "      <td>1951-07-01</td>\n",
       "      <td>1.56</td>\n",
       "    </tr>\n",
       "    <tr>\n",
       "      <th>1081</th>\n",
       "      <td>1951-11-01</td>\n",
       "      <td>1.56</td>\n",
       "    </tr>\n",
       "    <tr>\n",
       "      <th>1082</th>\n",
       "      <td>1952-07-01</td>\n",
       "      <td>1.81</td>\n",
       "    </tr>\n",
       "  </tbody>\n",
       "</table>\n",
       "<p>1083 rows × 2 columns</p>\n",
       "</div>"
      ],
      "text/plain": [
       "           date  TB3MS\n",
       "0    1956-03-01   2.25\n",
       "1    1960-12-01   2.25\n",
       "2    2018-10-01   2.25\n",
       "3    2008-01-01   2.75\n",
       "4    1993-01-01   3.00\n",
       "...         ...    ...\n",
       "1078 1948-08-01   1.06\n",
       "1079 1950-10-01   1.31\n",
       "1080 1951-07-01   1.56\n",
       "1081 1951-11-01   1.56\n",
       "1082 1952-07-01   1.81\n",
       "\n",
       "[1083 rows x 2 columns]"
      ]
     },
     "metadata": {},
     "output_type": "display_data"
    },
    {
     "data": {
      "text/html": [
       "<div>\n",
       "<style scoped>\n",
       "    .dataframe tbody tr th:only-of-type {\n",
       "        vertical-align: middle;\n",
       "    }\n",
       "\n",
       "    .dataframe tbody tr th {\n",
       "        vertical-align: top;\n",
       "    }\n",
       "\n",
       "    .dataframe thead th {\n",
       "        text-align: right;\n",
       "    }\n",
       "</style>\n",
       "<table border=\"1\" class=\"dataframe\">\n",
       "  <thead>\n",
       "    <tr style=\"text-align: right;\">\n",
       "      <th></th>\n",
       "      <th>date</th>\n",
       "      <th>CPIAUCSL</th>\n",
       "    </tr>\n",
       "  </thead>\n",
       "  <tbody>\n",
       "    <tr>\n",
       "      <th>0</th>\n",
       "      <td>1947-03-01</td>\n",
       "      <td>22.000</td>\n",
       "    </tr>\n",
       "    <tr>\n",
       "      <th>1</th>\n",
       "      <td>1947-04-01</td>\n",
       "      <td>22.000</td>\n",
       "    </tr>\n",
       "    <tr>\n",
       "      <th>2</th>\n",
       "      <td>1957-05-01</td>\n",
       "      <td>28.000</td>\n",
       "    </tr>\n",
       "    <tr>\n",
       "      <th>3</th>\n",
       "      <td>1959-02-01</td>\n",
       "      <td>29.000</td>\n",
       "    </tr>\n",
       "    <tr>\n",
       "      <th>4</th>\n",
       "      <td>1967-12-01</td>\n",
       "      <td>34.000</td>\n",
       "    </tr>\n",
       "    <tr>\n",
       "      <th>...</th>\n",
       "      <td>...</td>\n",
       "      <td>...</td>\n",
       "    </tr>\n",
       "    <tr>\n",
       "      <th>921</th>\n",
       "      <td>2023-09-01</td>\n",
       "      <td>307.288</td>\n",
       "    </tr>\n",
       "    <tr>\n",
       "      <th>922</th>\n",
       "      <td>2022-09-01</td>\n",
       "      <td>296.341</td>\n",
       "    </tr>\n",
       "    <tr>\n",
       "      <th>923</th>\n",
       "      <td>2014-11-01</td>\n",
       "      <td>236.983</td>\n",
       "    </tr>\n",
       "    <tr>\n",
       "      <th>924</th>\n",
       "      <td>2015-10-01</td>\n",
       "      <td>237.733</td>\n",
       "    </tr>\n",
       "    <tr>\n",
       "      <th>925</th>\n",
       "      <td>2019-04-01</td>\n",
       "      <td>255.233</td>\n",
       "    </tr>\n",
       "  </tbody>\n",
       "</table>\n",
       "<p>926 rows × 2 columns</p>\n",
       "</div>"
      ],
      "text/plain": [
       "          date  CPIAUCSL\n",
       "0   1947-03-01    22.000\n",
       "1   1947-04-01    22.000\n",
       "2   1957-05-01    28.000\n",
       "3   1959-02-01    29.000\n",
       "4   1967-12-01    34.000\n",
       "..         ...       ...\n",
       "921 2023-09-01   307.288\n",
       "922 2022-09-01   296.341\n",
       "923 2014-11-01   236.983\n",
       "924 2015-10-01   237.733\n",
       "925 2019-04-01   255.233\n",
       "\n",
       "[926 rows x 2 columns]"
      ]
     },
     "metadata": {},
     "output_type": "display_data"
    },
    {
     "data": {
      "text/html": [
       "<div>\n",
       "<style scoped>\n",
       "    .dataframe tbody tr th:only-of-type {\n",
       "        vertical-align: middle;\n",
       "    }\n",
       "\n",
       "    .dataframe tbody tr th {\n",
       "        vertical-align: top;\n",
       "    }\n",
       "\n",
       "    .dataframe thead th {\n",
       "        text-align: right;\n",
       "    }\n",
       "</style>\n",
       "<table border=\"1\" class=\"dataframe\">\n",
       "  <thead>\n",
       "    <tr style=\"text-align: right;\">\n",
       "      <th></th>\n",
       "      <th>date</th>\n",
       "      <th>UNRATE</th>\n",
       "    </tr>\n",
       "  </thead>\n",
       "  <tbody>\n",
       "    <tr>\n",
       "      <th>0</th>\n",
       "      <td>1953-05-01</td>\n",
       "      <td>2.5</td>\n",
       "    </tr>\n",
       "    <tr>\n",
       "      <th>1</th>\n",
       "      <td>1953-06-01</td>\n",
       "      <td>2.5</td>\n",
       "    </tr>\n",
       "    <tr>\n",
       "      <th>2</th>\n",
       "      <td>1951-05-01</td>\n",
       "      <td>3.0</td>\n",
       "    </tr>\n",
       "    <tr>\n",
       "      <th>3</th>\n",
       "      <td>1952-05-01</td>\n",
       "      <td>3.0</td>\n",
       "    </tr>\n",
       "    <tr>\n",
       "      <th>4</th>\n",
       "      <td>1952-06-01</td>\n",
       "      <td>3.0</td>\n",
       "    </tr>\n",
       "    <tr>\n",
       "      <th>...</th>\n",
       "      <td>...</td>\n",
       "      <td>...</td>\n",
       "    </tr>\n",
       "    <tr>\n",
       "      <th>909</th>\n",
       "      <td>2010-03-01</td>\n",
       "      <td>9.9</td>\n",
       "    </tr>\n",
       "    <tr>\n",
       "      <th>910</th>\n",
       "      <td>2010-04-01</td>\n",
       "      <td>9.9</td>\n",
       "    </tr>\n",
       "    <tr>\n",
       "      <th>911</th>\n",
       "      <td>1982-10-01</td>\n",
       "      <td>10.4</td>\n",
       "    </tr>\n",
       "    <tr>\n",
       "      <th>912</th>\n",
       "      <td>1983-01-01</td>\n",
       "      <td>10.4</td>\n",
       "    </tr>\n",
       "    <tr>\n",
       "      <th>913</th>\n",
       "      <td>1983-02-01</td>\n",
       "      <td>10.4</td>\n",
       "    </tr>\n",
       "  </tbody>\n",
       "</table>\n",
       "<p>914 rows × 2 columns</p>\n",
       "</div>"
      ],
      "text/plain": [
       "          date  UNRATE\n",
       "0   1953-05-01     2.5\n",
       "1   1953-06-01     2.5\n",
       "2   1951-05-01     3.0\n",
       "3   1952-05-01     3.0\n",
       "4   1952-06-01     3.0\n",
       "..         ...     ...\n",
       "909 2010-03-01     9.9\n",
       "910 2010-04-01     9.9\n",
       "911 1982-10-01    10.4\n",
       "912 1983-01-01    10.4\n",
       "913 1983-02-01    10.4\n",
       "\n",
       "[914 rows x 2 columns]"
      ]
     },
     "metadata": {},
     "output_type": "display_data"
    },
    {
     "data": {
      "text/html": [
       "<div>\n",
       "<style scoped>\n",
       "    .dataframe tbody tr th:only-of-type {\n",
       "        vertical-align: middle;\n",
       "    }\n",
       "\n",
       "    .dataframe tbody tr th {\n",
       "        vertical-align: top;\n",
       "    }\n",
       "\n",
       "    .dataframe thead th {\n",
       "        text-align: right;\n",
       "    }\n",
       "</style>\n",
       "<table border=\"1\" class=\"dataframe\">\n",
       "  <thead>\n",
       "    <tr style=\"text-align: right;\">\n",
       "      <th></th>\n",
       "      <th>date</th>\n",
       "      <th>GDP</th>\n",
       "    </tr>\n",
       "  </thead>\n",
       "  <tbody>\n",
       "    <tr>\n",
       "      <th>0</th>\n",
       "      <td>1947-01-01</td>\n",
       "      <td>243.164</td>\n",
       "    </tr>\n",
       "    <tr>\n",
       "      <th>1</th>\n",
       "      <td>1947-02-01</td>\n",
       "      <td>244.099</td>\n",
       "    </tr>\n",
       "    <tr>\n",
       "      <th>2</th>\n",
       "      <td>1947-03-01</td>\n",
       "      <td>245.033</td>\n",
       "    </tr>\n",
       "    <tr>\n",
       "      <th>3</th>\n",
       "      <td>1947-04-01</td>\n",
       "      <td>245.968</td>\n",
       "    </tr>\n",
       "    <tr>\n",
       "      <th>4</th>\n",
       "      <td>1947-05-01</td>\n",
       "      <td>247.174</td>\n",
       "    </tr>\n",
       "    <tr>\n",
       "      <th>...</th>\n",
       "      <td>...</td>\n",
       "      <td>...</td>\n",
       "    </tr>\n",
       "    <tr>\n",
       "      <th>917</th>\n",
       "      <td>2023-06-01</td>\n",
       "      <td>27427.756</td>\n",
       "    </tr>\n",
       "    <tr>\n",
       "      <th>918</th>\n",
       "      <td>2023-07-01</td>\n",
       "      <td>27610.128</td>\n",
       "    </tr>\n",
       "    <tr>\n",
       "      <th>919</th>\n",
       "      <td>2023-08-01</td>\n",
       "      <td>27725.751</td>\n",
       "    </tr>\n",
       "    <tr>\n",
       "      <th>920</th>\n",
       "      <td>2023-09-01</td>\n",
       "      <td>27841.375</td>\n",
       "    </tr>\n",
       "    <tr>\n",
       "      <th>921</th>\n",
       "      <td>2023-10-01</td>\n",
       "      <td>27956.998</td>\n",
       "    </tr>\n",
       "  </tbody>\n",
       "</table>\n",
       "<p>922 rows × 2 columns</p>\n",
       "</div>"
      ],
      "text/plain": [
       "          date        GDP\n",
       "0   1947-01-01    243.164\n",
       "1   1947-02-01    244.099\n",
       "2   1947-03-01    245.033\n",
       "3   1947-04-01    245.968\n",
       "4   1947-05-01    247.174\n",
       "..         ...        ...\n",
       "917 2023-06-01  27427.756\n",
       "918 2023-07-01  27610.128\n",
       "919 2023-08-01  27725.751\n",
       "920 2023-09-01  27841.375\n",
       "921 2023-10-01  27956.998\n",
       "\n",
       "[922 rows x 2 columns]"
      ]
     },
     "metadata": {},
     "output_type": "display_data"
    }
   ],
   "source": [
    "# Check if data can be accessed\n",
    "client = bq.Client()\n",
    "for df_name in dict_df:\n",
    "    table_id = df_name\n",
    "    sql = f'select * from {project_id}.{database_id}.{table_id}'\n",
    "    # save result into dataframe\n",
    "    display(client.query(sql).to_dataframe())"
   ]
  },
  {
   "cell_type": "code",
   "execution_count": null,
   "id": "69f1137b-a3dc-4c2c-9358-9c2b013d1557",
   "metadata": {},
   "outputs": [],
   "source": []
  }
 ],
 "metadata": {
  "kernelspec": {
   "display_name": "Python 3 (ipykernel)",
   "language": "python",
   "name": "python3"
  },
  "language_info": {
   "codemirror_mode": {
    "name": "ipython",
    "version": 3
   },
   "file_extension": ".py",
   "mimetype": "text/x-python",
   "name": "python",
   "nbconvert_exporter": "python",
   "pygments_lexer": "ipython3",
   "version": "3.11.4"
  }
 },
 "nbformat": 4,
 "nbformat_minor": 5
}
